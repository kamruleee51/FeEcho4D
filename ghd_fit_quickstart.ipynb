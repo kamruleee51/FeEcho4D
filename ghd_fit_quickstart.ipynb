{
 "cells": [
  {
   "cell_type": "markdown",
   "id": "1545e72d",
   "metadata": {},
   "source": [
    "# GHD Fitting Demo\n",
    "\n",
    "This notebook demonstrates how to call the `ghd_fit.py` script from Python so you can iterate quickly inside a Jupyter environment."
   ]
  },
  {
   "cell_type": "markdown",
   "id": "2d4641d7",
   "metadata": {},
   "source": [
    "### 1  Environment setup\n",
    "Install any required third‑party libraries *if they’re not already available* in your runtime.\n",
    "\n",
    "Install from the provided `requirements.txt` file"
   ]
  },
  {
   "cell_type": "code",
   "execution_count": 10,
   "id": "e79c40d1",
   "metadata": {},
   "outputs": [
    {
     "name": "stdout",
     "output_type": "stream",
     "text": [
      "Python 3.10.13  |  Torch 2.1.1\n"
     ]
    }
   ],
   "source": [
    "## If running on a fresh environment you may need:\n",
    "# !pip install torch torchvision torchaudio\n",
    "# !pip install numpy trimesh nibabel tqdm\n",
    "\n",
    "import sys, os, json, torch, pathlib\n",
    "print(f'Python {sys.version.split()[0]}  |  Torch {torch.__version__}')"
   ]
  },
  {
   "cell_type": "markdown",
   "id": "fb4a6587",
   "metadata": {},
   "source": [
    "### 2  Dataset Structure & Naming Convention\n",
    "\n",
    "This notebook fits parametric meshes to fetal cardiac segmentation masks using **GHD**.  \n",
    "Before running, make sure your data follows the structure below.\n",
    "\n",
    "---\n",
    "\n",
    "####  Folder Structure \n",
    "\n",
    "Each **case** is stored as a sub-folder under `--data_root`.\n",
    "\n",
    "####  File Naming Rules\n",
    "\n",
    "- Filenames must include a **case ID** and a **time tag**.\n",
    "  - Example: `MITEA_005_scan1_ED_true_mask.nii.gz`\n",
    "  - Example: `FeEcho4D_017_time003_true_mask.nii.gz`\n",
    "- Time tag must be one of:\n",
    "  - `ED`, `ES` → End-Diastole / End-Systole (2-frame mode)\n",
    "  - `timeXYZ` → Frame number in a 3D+T sequence (full cycle)\n",
    "\n",
    "####  Time Selection\n",
    "\n",
    "- `--times` accepts tags like:\n",
    "  - `ED ES` → process only ED and ES frames\n",
    "  - `time001-010` → process time001 to time010\n",
    "- If not specified, **all time points** are used."
   ]
  },
  {
   "cell_type": "markdown",
   "id": "fd9f6f82",
   "metadata": {},
   "source": [
    "### 3  Import helper and set parameters\n",
    "\n",
    "For more detailed parameter customization, please modify them directly in `ghd_fit.py`, including optimization settings, loss weights, and canonical mesh paths."
   ]
  },
  {
   "cell_type": "code",
   "execution_count": null,
   "id": "0af48dba",
   "metadata": {},
   "outputs": [],
   "source": [
    "from ghd_fit import run     # Adjust this import if the script lives elsewhere\n",
    "# --- Paths ------------------------------------------------------------------\n",
    "DATA_ROOT = pathlib.Path('data_example')       # folder with case sub-dirs\n",
    "MESH_OUT  = pathlib.Path(\"meshes_out_demo\")    # save location for OBJ meshes\n",
    "MESH_OUT.mkdir(exist_ok=True)\n",
    "\n",
    "# --- Case / time selection --------------------------------------------------\n",
    "CASES = [\"MITEA_005_scan1\"]  # [] → all cases in DATA_ROOT\n",
    "TIMES = [\"ED\"]               \n",
    "# [] → all frames; \"ED\",\"ES\",\"time001\",also supports ranges like \"time001-005\"\n",
    "\n",
    "# --- Device -----------------------------------------------------------------\n",
    "DEVICE = \"cuda:0\" if torch.cuda.is_available() else \"cpu\"\n",
    "\n",
    "# --- Core hyper-parameters ---------------------------------------------------\n",
    "MYO_IDX      = 1       # myocardium entry in point_list (FeEcho4D=2, MITEA=1)\n",
    "NUM_ITER     = 600     # morphing iterations\n",
    "MESH_SAMPLES = 4000    # points for CPD registration\n",
    "LR_START     = 5e-3    # initial learning-rate\n",
    "\n",
    "# Loss weights\n",
    "LOSS_OCC   = 1.0\n",
    "LOSS_NORM  = 0.01\n",
    "LOSS_LAP   = 0.01\n",
    "LOSS_THICK = 0.01\n",
    "\n",
    "PC_SPACING = 200       # µm spacing used by point_cloud_extractor"
   ]
  },
  {
   "cell_type": "markdown",
   "id": "c569b933",
   "metadata": {},
   "source": [
    "### 4  Launch fitting"
   ]
  },
  {
   "cell_type": "code",
   "execution_count": null,
   "id": "80552348",
   "metadata": {},
   "outputs": [],
   "source": [
    "# --- Build CLI argument list for fit_ghd.py ---------------------------------\n",
    "args = [\n",
    "    \"--data_root\",         str(DATA_ROOT),\n",
    "    \"--mesh_out\",          str(MESH_OUT),\n",
    "    \"--device\",            DEVICE,\n",
    "    \"--myo_idx\",           str(MYO_IDX),\n",
    "    \"--num_iter\",          str(NUM_ITER),\n",
    "    \"--mesh_samples\",      str(MESH_SAMPLES),\n",
    "    \"--lr_start\",          str(LR_START),\n",
    "    \"--loss_occupancy\",          str(LOSS_OCC),\n",
    "    \"--loss_normal_consistency\", str(LOSS_NORM),\n",
    "    \"--loss_laplacian\",          str(LOSS_LAP),\n",
    "    \"--loss_thickness\",          str(LOSS_THICK),\n",
    "    \"--pc_spacing\",        str(PC_SPACING),\n",
    "]\n",
    "if CASES:\n",
    "    args += [\"--cases\", *CASES]\n",
    "if TIMES:\n",
    "    args += [\"--times\", *TIMES]\n",
    "\n",
    "print(\"Argument list:\\n\", \" \".join(args))\n",
    "run(args)"
   ]
  },
  {
   "cell_type": "markdown",
   "id": "5a9c604d",
   "metadata": {},
   "source": [
    "### 5  Inspect results\n",
    "OBJ meshes are written to the `meshes_out_demo/` folder."
   ]
  }
 ],
 "metadata": {
  "kernelspec": {
   "display_name": "GHD",
   "language": "python",
   "name": "python3"
  },
  "language_info": {
   "codemirror_mode": {
    "name": "ipython",
    "version": 3
   },
   "file_extension": ".py",
   "mimetype": "text/x-python",
   "name": "python",
   "nbconvert_exporter": "python",
   "pygments_lexer": "ipython3",
   "version": "3.10.13"
  }
 },
 "nbformat": 4,
 "nbformat_minor": 5
}

{
 "cells": [
  {
   "cell_type": "code",
   "execution_count": 1,
   "metadata": {},
   "outputs": [],
   "source": [
    "import torch\n",
    "import torch.nn as nn\n",
    "import torch.nn.functional as F\n",
    "from torch.utils.data import Dataset, DataLoader\n",
    "\n",
    "# img normalization\n",
    "from torchvision import transforms\n",
    "from pytorch3d.transforms import axis_angle_to_matrix\n",
    "from pytorch3d.ops import taubin_smoothing, cubify\n",
    "\n",
    "\n",
    "import os\n",
    "import sys\n",
    "sys.path.append(os.path.abspath('..'))\n",
    "\n",
    "from ops.medical_related import get_4chamberview_frame \n",
    "\n",
    "import numpy as np\n",
    "import nibabel as nib\n",
    "\n",
    "from torch_scatter import scatter\n",
    "\n",
    "import pyvista as pv\n",
    "pv.start_xvfb(wait=0)\n",
    "pv.set_jupyter_backend('html')\n",
    "\n",
    "from einops import rearrange, repeat\n",
    "\n",
    "import data.data_utils as dut\n",
    "from data.dataset import *\n",
    "\n",
    "import matplotlib.pyplot as plt\n",
    "\n",
    "import trimesh\n",
    "from pytorch3d.io import save_obj, load_objs_as_meshes\n",
    "from pytorch3d.transforms import axis_angle_to_matrix, matrix_to_axis_angle\n",
    "\n"
   ]
  },
  {
   "cell_type": "code",
   "execution_count": 6,
   "metadata": {},
   "outputs": [],
   "source": [
    "dataset = MMWHSDataset_3DLabel(dataset_path='../../../Dataset/MMWHS', mode='train', modality='mixed',\n",
    "                               output_shape=(256, 256, 256),\n",
    "                                RML_simple = True)"
   ]
  },
  {
   "cell_type": "code",
   "execution_count": 7,
   "metadata": {},
   "outputs": [
    {
     "data": {
      "text/plain": [
       "40"
      ]
     },
     "execution_count": 7,
     "metadata": {},
     "output_type": "execute_result"
    }
   ],
   "source": [
    "len(dataset)"
   ]
  },
  {
   "cell_type": "code",
   "execution_count": 8,
   "metadata": {},
   "outputs": [
    {
     "name": "stdout",
     "output_type": "stream",
     "text": [
      "0\n",
      "torch.Size([1, 4, 4])\n"
     ]
    },
    {
     "name": "stderr",
     "output_type": "stream",
     "text": [
      "/home/yihao/anaconda3/envs/MedicalImage/lib/python3.9/site-packages/torch/nn/functional.py:4358: UserWarning: Default grid_sample and affine_grid behavior has changed to align_corners=False since 1.3.0. Please specify align_corners=True if the old behavior is desired. See the documentation of grid_sample for details.\n",
      "  warnings.warn(\n",
      "/home/yihao/anaconda3/envs/MedicalImage/lib/python3.9/site-packages/torch/nn/functional.py:4296: UserWarning: Default grid_sample and affine_grid behavior has changed to align_corners=False since 1.3.0. Please specify align_corners=True if the old behavior is desired. See the documentation of grid_sample for details.\n",
      "  warnings.warn(\n"
     ]
    }
   ],
   "source": [
    "dataloader = DataLoader(dataset, batch_size=1, shuffle=8)\n",
    "\n",
    "query_num = 1000\n",
    "\n",
    "device = torch.device('cpu')\n",
    "\n",
    "\n",
    "for i, example in enumerate(dataloader):\n",
    "\n",
    "    print(i)\n",
    "\n",
    "    image_tem = example['image'].to(device)\n",
    "    affine_tem = example['affine'].to(device)\n",
    "    label_tem = example['label'].to(device)\n",
    "\n",
    "\n",
    "    recubified = cubify((label_tem==dataset.label_value[2]).squeeze(1).float(), 0.48)\n",
    "    \n",
    "\n",
    "    B = image_tem.shape[0]\n",
    "\n",
    "    ## -------------- Data augmentation -----------------##\n",
    "\n",
    "    coordinate_map_tem = dut.get_coord_map_3d_normalized(image_tem.shape[-3:], affine_tem)\n",
    "\n",
    "    lv_cavity_index =  torch.where(label_tem==2)\n",
    "    lv_cavity_center = coordinate_map_tem[lv_cavity_index[0],lv_cavity_index[2],lv_cavity_index[3],lv_cavity_index[4],:]\n",
    "    lv_cavity_center = scatter(lv_cavity_center, lv_cavity_index[0], dim=0, reduce='mean')\n",
    "\n",
    "    \n",
    "\n",
    "    affine_aug  = dut.random_affine(B=B, dim=3, rot_range=[-np.pi, np.pi], \n",
    "                                    scale_range=[1.,1.], trans_range=[-0.2,0.2]).to(device)\n",
    "    \n",
    "    affine_aug[...,:3, 3] = affine_aug[...,:3, 3] + lv_cavity_center \n",
    "\n",
    "    del lv_cavity_center, lv_cavity_index\n",
    "\n",
    "    Z_new, Y_new, X_new = 128, 128, 128\n",
    "\n",
    "    # Z_new = np.random.randint(32, 64)\n",
    "\n",
    "    with torch.no_grad():\n",
    "        new_affine = affine_tem.inverse()@affine_aug\n",
    "\n",
    "        new_affine_inv = new_affine.inverse()\n",
    "\n",
    "        print(new_affine_inv.shape)\n",
    "\n",
    "        recubified = recubified.update_padded(recubified.verts_padded().matmul(new_affine_inv[..., :3,:3].transpose(-1,-2))+new_affine_inv[...,:3,3].unsqueeze(-2))\n",
    "\n",
    "        label_tem = dut.augment_from_affine(label_tem, new_affine, (Z_new, Y_new, X_new), mode='nearest')\n",
    "        image_tem = dut.augment_from_affine(image_tem, new_affine, (Z_new, Y_new, X_new), mode='bilinear')\n",
    "\n",
    "        example['label'] = label_tem\n",
    "        example['image'] = image_tem\n",
    "        \n",
    "        coordinate_map_tem = dut.get_coord_map_3d_normalized(image_tem.shape[-3:], torch.eye(4).to(device).unsqueeze(0).repeat(B,1,1))\n",
    "        \n",
    "        B, C, Z, Y, X = image_tem.shape\n",
    "\n",
    "\n",
    "        query_points_labeled = rearrange(coordinate_map_tem, \n",
    "                                            'b z y x c -> b (z y x) c', c=3)\n",
    "        query_points_labeled = torch.cat([query_points_labeled, \n",
    "                                        rearrange(label_tem==dataset.label_value[2], 'b 1 z y x -> b (z y x) 1')], dim=-1)\n",
    "        \n",
    "        query_points_list = []\n",
    "        target_affine_list = []\n",
    "\n",
    "        \n",
    "\n",
    "\n",
    "\n",
    "        for b in range(B):\n",
    "            Z_rv, Y_rv, X_rv = torch.where(label_tem[b, 0]==dataset.label_value[1])\n",
    "            Z_lv, Y_lv, X_lv = torch.where(label_tem[b, 0]==dataset.label_value[2])\n",
    "            Z_cav, Y_cav, X_cav = torch.where(label_tem[b, 0]==dataset.label_value[3])\n",
    "            Z_bg, Y_bg, X_bg = torch.where(label_tem[b, 0]==dataset.label_value[0])\n",
    "            \n",
    "            Pt_rv = coordinate_map_tem[b, Z_rv, Y_rv, X_rv]\n",
    "            Pt_lv = coordinate_map_tem[b, Z_lv, Y_lv, X_lv]\n",
    "            Pt_cav = coordinate_map_tem[b, Z_cav, Y_cav, X_cav]\n",
    "\n",
    "            geom_dict = get_4chamberview_frame(Pt_cav, Pt_lv, Pt_rv)\n",
    "            target_affine_list.append(geom_dict['target_affine'])\n",
    "\n",
    "            # select the query points\n",
    "            query_points_index_0 = torch.where(((query_points_labeled[b,:,:3]).abs().max(dim=-1).values < 1.0) & (query_points_labeled[b,:,3] < 0.5))[0]\n",
    "            query_points_index_1 = torch.where(((query_points_labeled[b,:,:3]).abs().max(dim=-1).values < 1.0) & (query_points_labeled[b,:,3] > 0.5))[0]\n",
    "            query_points_index_0 = query_points_index_0[np.random.choice(query_points_index_0.shape[0], query_num//2, replace=True)]\n",
    "            query_points_index_1 = query_points_index_1[np.random.choice(query_points_index_1.shape[0], query_num//2, replace=True)]\n",
    "            query_points_index = torch.cat([query_points_index_0, query_points_index_1], dim=0)\n",
    "            query_points_list.append(query_points_labeled[b: b+1, query_points_index])\n",
    "\n",
    "        query_points_labeled = torch.cat(query_points_list, dim=0)\n",
    "        target_affine = torch.stack(target_affine_list, dim=0)\n",
    "\n",
    "        break\n",
    "\n",
    "\n",
    "\n"
   ]
  },
  {
   "cell_type": "code",
   "execution_count": null,
   "metadata": {},
   "outputs": [],
   "source": []
  },
  {
   "cell_type": "code",
   "execution_count": 9,
   "metadata": {},
   "outputs": [
    {
     "data": {
      "application/vnd.jupyter.widget-view+json": {
       "model_id": "995758d6ecc5447694c59bab0b544001",
       "version_major": 2,
       "version_minor": 0
      },
      "text/plain": [
       "EmbeddableWidget(value='<iframe srcdoc=\"<!DOCTYPE html>\\n<html>\\n  <head>\\n    <meta http-equiv=&quot;Content-…"
      ]
     },
     "metadata": {},
     "output_type": "display_data"
    }
   ],
   "source": [
    "bi_ventricle_trimesh = trimesh.load_mesh('../canonical_shapes/Standard_BiV.obj')\n",
    "lv_trimesh = trimesh.load_mesh('../canonical_shapes/Standard_LV_2000.obj')\n",
    "\n",
    "b = np.random.randint(0, B)\n",
    "\n",
    "lv_trimesh = lv_trimesh.apply_transform(target_affine[b].detach().cpu().numpy())\n",
    "\n",
    "recubified_trimesh = trimesh.Trimesh(vertices=recubified.verts_list()[b].detach().cpu().numpy(), \n",
    "                                     faces=recubified.faces_list()[b].detach().cpu().numpy())\n",
    "\n",
    "\n",
    "\n",
    "coordinate_map_np = coordinate_map_tem[b].detach().cpu().numpy()\n",
    "\n",
    "pl = pv.Plotter(notebook=True)\n",
    "interval = 1\n",
    "if image_tem.shape[-3] > 20:\n",
    "    interval = 5\n",
    "if image_tem.shape[-3] > 256:\n",
    "    interval = 10\n",
    "for i in range(0, image_tem.shape[-3], interval):\n",
    "\n",
    "    x, y, z = coordinate_map_np[i,...,0], coordinate_map_np[i,...,1], coordinate_map_np[i,...,2]\n",
    "\n",
    "    grid = pv.StructuredGrid(x, y, z)\n",
    "\n",
    "    color_gt = (label_tem[b,0,i].cpu().numpy().T.flatten() ==2).astype(np.float32)\n",
    "    raw_image = image_tem[b,0,i].cpu().numpy().T.flatten()\n",
    "    color_opacity = np.ones_like(color_gt)*0.4\n",
    "\n",
    "    color_opacity[color_gt == 0] = 0.05\n",
    "\n",
    "    pl.add_mesh(grid, scalars = color_gt, cmap = 'Accent_r',\n",
    "                show_scalar_bar = False, opacity = color_opacity, clim=[0,3])\n",
    "    \n",
    "    \n",
    "\n",
    "pl.add_mesh(lv_trimesh, color='blue', opacity=0.1)\n",
    "\n",
    "# # pl.add_mesh(bi_ventricle_trimesh_target, color='red', opacity=0.1)\n",
    "# pl.add_mesh(lv_trimesh_target, color='blue', opacity=0.2, show_edges=True, show_vertices=True)\n",
    "# pl.add_mesh(pv.Box(bounds=[-1, 1, -1, 1, -1, 1]).outline(), color='black')\n",
    "\n",
    "# pl.add_points(Pt_center.cpu().numpy(), color='red', point_size=10)\n",
    "# pl.add_arrows(Pt_center.cpu().numpy(), 0.3*(u2d_axis).cpu().numpy(), color='blue') \n",
    "# pl.add_arrows(Pt_center.cpu().numpy(), 0.3*(l2r_axis).cpu().numpy(), color='green')\n",
    "# pl.add_arrows(Pt_center.cpu().numpy(), 0.3*(b2f_axis).cpu().numpy(), color='red')\n",
    "pl.add_mesh(pv.Box(bounds=[-1, 1, -1, 1, -1, 1]).outline(), color='black')\n",
    "\n",
    "\n",
    "pl.add_mesh(recubified_trimesh, color='red', opacity=0.1)\n",
    "\n",
    "\n",
    "# pl.add_points(lv_cavity_center.cpu().numpy(), color='red', point_size=10)\n",
    "\n",
    "pl.add_axes()\n",
    "pl.show()"
   ]
  },
  {
   "cell_type": "code",
   "execution_count": null,
   "metadata": {},
   "outputs": [],
   "source": []
  },
  {
   "cell_type": "code",
   "execution_count": null,
   "metadata": {},
   "outputs": [],
   "source": []
  },
  {
   "cell_type": "code",
   "execution_count": 36,
   "metadata": {},
   "outputs": [
    {
     "name": "stderr",
     "output_type": "stream",
     "text": [
      "/home/yihao/anaconda3/envs/MedicalImage/lib/python3.9/site-packages/torch/nn/functional.py:4358: UserWarning: Default grid_sample and affine_grid behavior has changed to align_corners=False since 1.3.0. Please specify align_corners=True if the old behavior is desired. See the documentation of grid_sample for details.\n",
      "  warnings.warn(\n",
      "/home/yihao/anaconda3/envs/MedicalImage/lib/python3.9/site-packages/torch/nn/functional.py:4296: UserWarning: Default grid_sample and affine_grid behavior has changed to align_corners=False since 1.3.0. Please specify align_corners=True if the old behavior is desired. See the documentation of grid_sample for details.\n",
      "  warnings.warn(\n"
     ]
    }
   ],
   "source": [
    "dataloader = DataLoader(dataset, batch_size=2, shuffle=8)\n",
    "\n",
    "query_num = 1000\n",
    "\n",
    "device = torch.device('cuda:1')\n",
    "\n",
    "for i, example in enumerate(dataloader):\n",
    "\n",
    "    image_tem = example['image'].to(device)\n",
    "    affine_tem = example['affine'].to(device)\n",
    "    label_tem = example['label'].to(device)\n",
    "\n",
    "    B = image_tem.shape[0]\n",
    "\n",
    "\n",
    "\n",
    "    coordinate_map_tem = dut.get_coord_map_3d_normalized(image_tem.shape[-3:], affine_tem)\n",
    "\n",
    "    lv_cavity_index =  torch.where(label_tem==2)\n",
    "    lv_cavity_center = coordinate_map_tem[lv_cavity_index[0],lv_cavity_index[2],lv_cavity_index[3],lv_cavity_index[4],:]\n",
    "    lv_cavity_center = scatter(lv_cavity_center, lv_cavity_index[0], dim=0, reduce='mean')\n",
    "\n",
    "    \n",
    "\n",
    "    affine_aug  = dut.random_affine(B=B, dim=3, rot_range=[-np.pi, np.pi], \n",
    "                                    scale_range=[1.,1.], trans_range=[-0.2,0.2]).to(device)\n",
    "    \n",
    "    affine_aug[...,:3, 3] = affine_aug[...,:3, 3] + lv_cavity_center \n",
    "\n",
    "    Z_new, Y_new, X_new = 128, 128, 128\n",
    "\n",
    "    Z_new = np.random.randint(64, 128)\n",
    "\n",
    "    new_affine = affine_tem.inverse()@affine_aug\n",
    "\n",
    "    label_tem = dut.augment_from_affine(label_tem, new_affine, (Z_new, Y_new, X_new), mode='nearest')\n",
    "    image_tem = dut.augment_from_affine(image_tem, new_affine, (Z_new, Y_new, X_new), mode='bilinear')\n",
    "    \n",
    "    coordinate_map_tem = dut.get_coord_map_3d_normalized(image_tem.shape[-3:], torch.eye(4).to(device).unsqueeze(0).repeat(B,1,1))\n",
    "    \n",
    "    B, C, Z, Y, X = image_tem.shape\n",
    "\n",
    "\n",
    "    query_points_labeled = rearrange(coordinate_map_tem, \n",
    "                                        'b z y x c -> b (z y x) c', c=3)\n",
    "    query_points_labeled = torch.cat([query_points_labeled, \n",
    "                                    rearrange(label_tem==dataset.label_value[2], 'b 1 z y x -> b (z y x) 1')], dim=-1)\n",
    "    \n",
    "    query_points_list = []\n",
    "    target_affine_list = []\n",
    "    \n",
    "\n",
    "    for b in range(B):\n",
    "        Z_rv, Y_rv, X_rv = torch.where(label_tem[b, 0]==dataset.label_value[1])\n",
    "        Z_lv, Y_lv, X_lv = torch.where(label_tem[b, 0]==dataset.label_value[2])\n",
    "        Z_cav, Y_cav, X_cav = torch.where(label_tem[b, 0]==dataset.label_value[3])\n",
    "        Z_bg, Y_bg, X_bg = torch.where(label_tem[b, 0]==dataset.label_value[0])\n",
    "        \n",
    "        Pt_rv = coordinate_map_tem[b, Z_rv, Y_rv, X_rv]\n",
    "        Pt_lv = coordinate_map_tem[b, Z_lv, Y_lv, X_lv]\n",
    "        Pt_cav = coordinate_map_tem[b, Z_cav, Y_cav, X_cav]\n",
    "\n",
    "        geom_dict = get_4chamberview_frame(Pt_cav, Pt_lv, Pt_rv)\n",
    "        target_affine_list.append(geom_dict['target_affine'])\n",
    "\n",
    "        # select the query points\n",
    "        query_points_index_0 = torch.where(((query_points_labeled[b,:,:3]).abs().max(dim=-1).values < 1.0) & (query_points_labeled[b,:,3] < 0.5))[0]\n",
    "        query_points_index_1 = torch.where(((query_points_labeled[b,:,:3]).abs().max(dim=-1).values < 1.0) & (query_points_labeled[b,:,3] > 0.5))[0]\n",
    "        query_points_index_0 = query_points_index_0[np.random.choice(query_points_index_0.shape[0], query_num//2, replace=True)]\n",
    "        query_points_index_1 = query_points_index_1[np.random.choice(query_points_index_1.shape[0], query_num//2, replace=True)]\n",
    "        query_points_index = torch.cat([query_points_index_0, query_points_index_1], dim=0)\n",
    "        query_points_list.append(query_points_labeled[b: b+1, query_points_index])\n",
    "\n",
    "    query_points_labeled = torch.cat(query_points_list, dim=0)\n",
    "    target_affine = torch.stack(target_affine_list, dim=0)\n",
    "    break\n"
   ]
  },
  {
   "cell_type": "code",
   "execution_count": null,
   "metadata": {},
   "outputs": [],
   "source": []
  },
  {
   "cell_type": "code",
   "execution_count": 37,
   "metadata": {},
   "outputs": [],
   "source": [
    "\n",
    "recubified = cubify((label_tem==dataset.label_value[2]).squeeze(1), 0.5)\n",
    "coordinate_map_np = coordinate_map_tem[0].detach().cpu().numpy()"
   ]
  },
  {
   "cell_type": "code",
   "execution_count": 38,
   "metadata": {},
   "outputs": [],
   "source": [
    "bi_ventricle_trimesh = trimesh.load_mesh('../canonical_shapes/Standard_BiV.obj')\n",
    "lv_trimesh = trimesh.load_mesh('../canonical_shapes/Standard_LV_2000.obj')\n",
    "\n",
    "lv_trimesh = lv_trimesh.apply_transform(target_affine[0].detach().cpu().numpy())\n",
    "\n",
    "recubified_trimesh = trimesh.Trimesh(vertices=recubified.verts_list()[0].detach().cpu().numpy(), faces=recubified.faces_list()[0].detach().cpu().numpy())"
   ]
  },
  {
   "cell_type": "code",
   "execution_count": 39,
   "metadata": {},
   "outputs": [
    {
     "data": {
      "text/plain": [
       "<matplotlib.image.AxesImage at 0x724d3c069220>"
      ]
     },
     "execution_count": 39,
     "metadata": {},
     "output_type": "execute_result"
    },
    {
     "data": {
      "image/png": "[encoded data removed]",
      "text/plain": [
       "<Figure size 640x480 with 1 Axes>"
      ]
     },
     "metadata": {},
     "output_type": "display_data"
    }
   ],
   "source": [
    "plt.imshow(label_tem[0,0,32].detach().cpu().numpy())"
   ]
  },
  {
   "cell_type": "code",
   "execution_count": 40,
   "metadata": {},
   "outputs": [
    {
     "data": {
      "text/plain": [
       "(105, 128, 128, 3)"
      ]
     },
     "execution_count": 40,
     "metadata": {},
     "output_type": "execute_result"
    }
   ],
   "source": [
    "coordinate_map_np.shape"
   ]
  },
  {
   "cell_type": "code",
   "execution_count": 41,
   "metadata": {},
   "outputs": [
    {
     "data": {
      "application/vnd.jupyter.widget-view+json": {
       "model_id": "3c913886996f4f88b59450b414ed2fa1",
       "version_major": 2,
       "version_minor": 0
      },
      "text/plain": [
       "EmbeddableWidget(value='<iframe srcdoc=\"<!DOCTYPE html>\\n<html>\\n  <head>\\n    <meta http-equiv=&quot;Content-…"
      ]
     },
     "metadata": {},
     "output_type": "display_data"
    }
   ],
   "source": [
    "pl = pv.Plotter(notebook=True)\n",
    "interval = 1\n",
    "if image_tem.shape[-3] > 20:\n",
    "    interval = 5\n",
    "if image_tem.shape[-3] > 256:\n",
    "    interval = 10\n",
    "for i in range(0, image_tem.shape[-3], interval):\n",
    "\n",
    "    x, y, z = coordinate_map_np[i,...,0], coordinate_map_np[i,...,1], coordinate_map_np[i,...,2]\n",
    "\n",
    "    grid = pv.StructuredGrid(x, y, z)\n",
    "\n",
    "    color_gt = (label_tem[0,0,i].cpu().numpy().T.flatten() ==2).astype(np.float32)\n",
    "    raw_image = image_tem[0,0,i].cpu().numpy().T.flatten()\n",
    "    color_opacity = np.ones_like(color_gt)*0.4\n",
    "\n",
    "    color_opacity[color_gt == 0] = 0.05\n",
    "\n",
    "    pl.add_mesh(grid, scalars = color_gt, cmap = 'Accent_r',\n",
    "                show_scalar_bar = False, opacity = color_opacity, clim=[0,3])\n",
    "    \n",
    "    \n",
    "\n",
    "pl.add_mesh(lv_trimesh, color='blue', opacity=0.1)\n",
    "\n",
    "# # pl.add_mesh(bi_ventricle_trimesh_target, color='red', opacity=0.1)\n",
    "# pl.add_mesh(lv_trimesh_target, color='blue', opacity=0.2, show_edges=True, show_vertices=True)\n",
    "# pl.add_mesh(pv.Box(bounds=[-1, 1, -1, 1, -1, 1]).outline(), color='black')\n",
    "\n",
    "# pl.add_points(Pt_center.cpu().numpy(), color='red', point_size=10)\n",
    "# pl.add_arrows(Pt_center.cpu().numpy(), 0.3*(u2d_axis).cpu().numpy(), color='blue') \n",
    "# pl.add_arrows(Pt_center.cpu().numpy(), 0.3*(l2r_axis).cpu().numpy(), color='green')\n",
    "# pl.add_arrows(Pt_center.cpu().numpy(), 0.3*(b2f_axis).cpu().numpy(), color='red')\n",
    "pl.add_mesh(pv.Box(bounds=[-1, 1, -1, 1, -1, 1]).outline(), color='black')\n",
    "\n",
    "\n",
    "pl.add_mesh(recubified_trimesh, color='red', opacity=0.1)\n",
    "\n",
    "\n",
    "# pl.add_points(lv_cavity_center.cpu().numpy(), color='red', point_size=10)\n",
    "\n",
    "pl.add_axes()\n",
    "pl.show()"
   ]
  },
  {
   "cell_type": "code",
   "execution_count": null,
   "metadata": {},
   "outputs": [],
   "source": []
  },
  {
   "cell_type": "code",
   "execution_count": null,
   "metadata": {},
   "outputs": [],
   "source": []
  },
  {
   "cell_type": "code",
   "execution_count": 2,
   "metadata": {},
   "outputs": [
    {
     "name": "stdout",
     "output_type": "stream",
     "text": [
      "Loading data from:  ../../../Dataset/ACDC/database/training/\n",
      "Total number of loaded data:  200\n"
     ]
    },
    {
     "name": "stderr",
     "output_type": "stream",
     "text": [
      "/home/yihao/data/IC/IF-PINN/ops/medical_related.py:22: UserWarning: The use of `x.T` on tensors of dimension other than 2 to reverse their shape is deprecated and it will throw an error in a future release. Consider `x.mT` to transpose batches of matrices or `x.permute(*torch.arange(x.ndim - 1, -1, -1))` to reverse the dimensions of a tensor. (Triggered internally at ../aten/src/ATen/native/TensorShape.cpp:3614.)\n",
      "  if u2d_axis@(Pt_center_lv-Pt_center).T < 0:\n"
     ]
    }
   ],
   "source": [
    "dataset =  ACDCDataset_Augmented(dataset_path='../../../Dataset/ACDC',mode='train', output_shape=(7, 128, 128))\n",
    "# dataset = MMWHSDataset_Augmented(dataset_path='../../../Dataset/MMWHS',mode='train',modality='mixed',\n",
    "#                                  rotation_range=[-np.pi, np.pi], scale_range=[0.9, 1.1], trans_range=[10., 10.], \n",
    "#                                  aug_dim=3,\n",
    "#                                  output_shape=(64, 128, 128), RML_simple=True)\n",
    "\n",
    "device = torch.device('cuda:0')\n",
    "\n",
    "dataloaders = DataLoader(dataset, batch_size=1, shuffle=True)\n",
    "\n",
    "query_num = 1000\n",
    "\n",
    "## Constant rescacle ##\n",
    "rescale = 1.0/100 # -1 to 1 = 200 mm\n",
    "\n",
    "indx = 0\n",
    "for i, example in enumerate(dataloaders):\n",
    "\n",
    "    image_tem = example['image'].to(device)\n",
    "    label_tem = example['label'].to(device)\n",
    "    \n",
    "    B, C, Z, Y, X = image_tem.shape\n",
    "\n",
    "    affine_tem = example['affine'].to(device)\n",
    "    affine_rand = dut.random_affine(B=B, dim=3, rot_range=[-np.pi, np.pi], \n",
    "                            trans_range=[-0.1, 0.1], scale_range=[1.0, 1.0]).to(device)\n",
    "    \n",
    "    affine_tem = torch.matmul(affine_rand, affine_tem)\n",
    "    coordinate_map_tem = dut.get_coord_map_3d(image_tem.shape[-3:], affine_tem, rescaler=rescale).to(device)\n",
    "\n",
    "\n",
    "    S = affine_tem[0,:3,:3].norm(dim=-2, keepdim=True)\n",
    "    R = affine_tem[0,:3,:3]/S\n",
    "    T = affine_tem[0,:3,3]/torch.tensor([X-1, Y-1, Z-1]).to(device).view(1,3)*2\n",
    "\n",
    "    \n",
    "    with torch.no_grad():\n",
    "\n",
    "        ## generate the query points\n",
    "        query_points_labeled = rearrange(coordinate_map_tem, \n",
    "                                            'b z y x c -> b (z y x) c', c=3)\n",
    "        query_points_labeled = torch.cat([query_points_labeled, \n",
    "                                        rearrange(label_tem==dataset.label_value[2], 'b 1 z y x -> b (z y x) 1')], dim=-1)\n",
    "        query_pts = torch.tensor([[0, 0, 0], [0, 0, Z-1], [0, Y-1, 0], [0, Y-1, Z-1], [X-1, 0, 0], [X-1, 0, Z-1], [X-1, Y-1, 0], [X-1, Y-1, Z-1]]).to(device)\n",
    "        \n",
    "        query_points_list = []\n",
    "        target_affine_list = []\n",
    "        for b in range(B):\n",
    "            Z_rv, Y_rv, X_rv = torch.where(label_tem[b, 0]==dataset.label_value[1])\n",
    "            Z_lv, Y_lv, X_lv = torch.where(label_tem[b, 0]==dataset.label_value[2])\n",
    "            Z_cav, Y_cav, X_cav = torch.where(label_tem[b, 0]==dataset.label_value[3])\n",
    "            Z_bg, Y_bg, X_bg = torch.where(label_tem[b, 0]==dataset.label_value[0])\n",
    "            \n",
    "\n",
    "            Pt_rv = coordinate_map_tem[b, Z_rv, Y_rv, X_rv]\n",
    "            Pt_lv = coordinate_map_tem[b, Z_lv, Y_lv, X_lv]\n",
    "            Pt_cav = coordinate_map_tem[b, Z_cav, Y_cav, X_cav]\n",
    "\n",
    "            geom_dict = get_4chamberview_frame(Pt_cav, Pt_lv, Pt_rv)\n",
    "            target_affine_list.append(geom_dict['target_affine'])\n",
    "\n",
    "            # select the query points\n",
    "            query_points_index_0 = torch.where(((query_points_labeled[b,:,:3]).abs().max(dim=-1).values < 1.0) & (query_points_labeled[b,:,3] < 0.5))[0]\n",
    "            query_points_index_1 = torch.where(((query_points_labeled[b,:,:3]).abs().max(dim=-1).values < 1.0) & (query_points_labeled[b,:,3] > 0.5))[0]\n",
    "            query_points_index_0 = query_points_index_0[np.random.choice(query_points_index_0.shape[0], query_num//2, replace=True)]\n",
    "            query_points_index_1 = query_points_index_1[np.random.choice(query_points_index_1.shape[0], query_num//2, replace=True)]\n",
    "            query_points_index = torch.cat([query_points_index_0, query_points_index_1], dim=0)\n",
    "            query_points_list.append(query_points_labeled[b: b+1, query_points_index])\n",
    "\n",
    "        query_points_labeled = torch.cat(query_points_list, dim=0)\n",
    "        target_affine = torch.stack(target_affine_list, dim=0)\n",
    "\n",
    "\n",
    "    if i==indx:\n",
    "        break\n",
    "    \n",
    "\n",
    "coordinate_map_np = rearrange(coordinate_map_tem, '1 z y x d-> z y x d').detach().cpu().numpy()\n",
    "\n",
    "\n"
   ]
  },
  {
   "cell_type": "code",
   "execution_count": 3,
   "metadata": {},
   "outputs": [],
   "source": [
    "canonical_frame = torch.tensor([[-1, 0, 0], [0, 1, 0], [0, 0, -1]]).T.float().to(device)\n",
    "for b in range(B):\n",
    "    with torch.no_grad():\n",
    "        Z_rv, Y_rv, X_rv = torch.where(label_tem[b, 0]==dataset.label_value[1])\n",
    "        Z_lv, Y_lv, X_lv = torch.where(label_tem[b, 0]==dataset.label_value[2])\n",
    "        Z_cav, Y_cav, X_cav = torch.where(label_tem[b, 0]==dataset.label_value[3])\n",
    "        Z_bg, Y_bg, X_bg = torch.where(label_tem[b, 0]==dataset.label_value[0])\n",
    "        \n",
    "\n",
    "        Pt_rv = coordinate_map_tem[b, Z_rv, Y_rv, X_rv]\n",
    "        Pt_lv = coordinate_map_tem[b, Z_lv, Y_lv, X_lv]\n",
    "        Pt_cav = coordinate_map_tem[b, Z_cav, Y_cav, X_cav]\n",
    "\n",
    "        geom_dict = get_4chamberview_frame(Pt_cav, Pt_lv, Pt_rv)\n",
    "        \n",
    "\n",
    "\n",
    " \n",
    "        # R = torch.matmul(target_frame,canonical_frame.T)\n",
    "        # T = Pt_center\n",
    "\n",
    "        # target_affine = torch.eye(4).to(device)\n",
    "        # target_affine[:3,:3] = R\n",
    "        # target_affine[:3,3] = T"
   ]
  },
  {
   "cell_type": "code",
   "execution_count": 4,
   "metadata": {},
   "outputs": [],
   "source": [
    "bi_ventricle_trimesh = trimesh.load_mesh('../canonical_shapes/Standard_BiV.obj')\n",
    "lv_trimesh = trimesh.load_mesh('../canonical_shapes/Standard_LV_2000.obj')"
   ]
  },
  {
   "cell_type": "code",
   "execution_count": 5,
   "metadata": {},
   "outputs": [],
   "source": [
    "target_affine = geom_dict['target_affine']\n",
    "Pt_center = geom_dict['mean_cav']\n",
    "Pt_center_lv = geom_dict['mean_lv']\n",
    "Pt_center_rv = geom_dict['mean_rv']\n",
    "b2f_axis = geom_dict['b2f_axis']\n",
    "l2r_axis = geom_dict['l2r_axis']\n",
    "u2d_axis = geom_dict['u2d_axis']\n",
    "bi_ventricle_trimesh_target = bi_ventricle_trimesh.copy().apply_transform(target_affine.cpu().numpy())\n",
    "lv_trimesh_target = lv_trimesh.copy().apply_transform(target_affine.cpu().numpy())"
   ]
  },
  {
   "cell_type": "code",
   "execution_count": 7,
   "metadata": {},
   "outputs": [
    {
     "data": {
      "text/plain": [
       "tensor([[-0.9481,  0.2497, -0.1969, -0.0389],\n",
       "        [ 0.0858, -0.3952, -0.9146, -0.0695],\n",
       "        [-0.3062, -0.8840,  0.3533,  0.0361],\n",
       "        [ 0.0000,  0.0000,  0.0000,  1.0000]], device='cuda:0')"
      ]
     },
     "execution_count": 7,
     "metadata": {},
     "output_type": "execute_result"
    }
   ],
   "source": [
    "target_affine"
   ]
  },
  {
   "cell_type": "code",
   "execution_count": null,
   "metadata": {},
   "outputs": [],
   "source": []
  },
  {
   "cell_type": "code",
   "execution_count": 6,
   "metadata": {},
   "outputs": [
    {
     "data": {
      "application/vnd.jupyter.widget-view+json": {
       "model_id": "bc557c97a19a479db13ec78751a500bb",
       "version_major": 2,
       "version_minor": 0
      },
      "text/plain": [
       "EmbeddableWidget(value='<iframe srcdoc=\"<!DOCTYPE html>\\n<html>\\n  <head>\\n    <meta http-equiv=&quot;Content-…"
      ]
     },
     "metadata": {},
     "output_type": "display_data"
    }
   ],
   "source": [
    "pl = pv.Plotter(notebook=True)\n",
    "interval = 1\n",
    "if image_tem.shape[-3] > 20:\n",
    "    interval = 3\n",
    "if image_tem.shape[-3] > 256:\n",
    "    interval = 10\n",
    "for i in range(0, image_tem.shape[-3], interval):\n",
    "\n",
    "    x, y, z = coordinate_map_np[i,...,0], coordinate_map_np[i,...,1], coordinate_map_np[i,...,2]\n",
    "\n",
    "    grid = pv.StructuredGrid(x, y, z)\n",
    "\n",
    "    color_gt = label_tem[0,0,i].cpu().numpy().T.flatten()\n",
    "    raw_image = image_tem[0,0,i].cpu().numpy().T.flatten()\n",
    "    color_opacity = np.ones_like(color_gt)*0.2\n",
    "\n",
    "    color_opacity[color_gt == 0] = 0.1\n",
    "\n",
    "    pl.add_mesh(grid, scalars = color_gt, cmap = 'Accent_r',\n",
    "                show_scalar_bar = False, opacity = color_opacity, clim=[0, 3])\n",
    "    \n",
    "    \n",
    "\n",
    "# trimesh_lv = trimesh.Trimesh(vertices=mesh_lv.verts_list()[0].detach().cpu().numpy()/100, faces=mesh_lv.faces_list()[0].detach().cpu().numpy())\n",
    "# simplified_mesh = trimesh_lv.simplify_quadratic_decimation(4000)\n",
    "# trimesh.smoothing.filter_taubin(simplified_mesh, iterations=10)\n",
    "# decimate the mesh\n",
    "# pl.add_mesh(simplified_mesh, color='blue', opacity=0.1)\n",
    "\n",
    "# pl.add_mesh(bi_ventricle_trimesh_target, color='red', opacity=0.1)\n",
    "pl.add_mesh(lv_trimesh_target, color='blue', opacity=0.2, show_edges=True, show_vertices=True)\n",
    "pl.add_mesh(pv.Box(bounds=[-1, 1, -1, 1, -1, 1]).outline(), color='black')\n",
    "\n",
    "pl.add_points(Pt_center.cpu().numpy(), color='red', point_size=10)\n",
    "pl.add_arrows(Pt_center.cpu().numpy(), 0.3*(u2d_axis).cpu().numpy(), color='blue') \n",
    "pl.add_arrows(Pt_center.cpu().numpy(), 0.3*(l2r_axis).cpu().numpy(), color='green')\n",
    "pl.add_arrows(Pt_center.cpu().numpy(), 0.3*(b2f_axis).cpu().numpy(), color='red')\n",
    "\n",
    "pl.add_axes()\n",
    "pl.show()"
   ]
  },
  {
   "cell_type": "code",
   "execution_count": null,
   "metadata": {},
   "outputs": [],
   "source": []
  }
 ],
 "metadata": {
  "kernelspec": {
   "display_name": "MedicalImage",
   "language": "python",
   "name": "python3"
  },
  "language_info": {
   "codemirror_mode": {
    "name": "ipython",
    "version": 3
   },
   "file_extension": ".py",
   "mimetype": "text/x-python",
   "name": "python",
   "nbconvert_exporter": "python",
   "pygments_lexer": "ipython3",
   "version": "3.9.18"
  }
 },
 "nbformat": 4,
 "nbformat_minor": 2
}
